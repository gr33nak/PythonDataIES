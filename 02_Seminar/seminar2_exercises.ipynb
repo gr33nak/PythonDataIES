{
 "cells": [
  {
   "attachments": {},
   "cell_type": "markdown",
   "metadata": {},
   "source": [
    "# Seminar 1\n",
    "\n",
    "by Martin Hronec\n",
    "\n",
    "(27th of February)"
   ]
  },
  {
   "attachments": {},
   "cell_type": "markdown",
   "metadata": {},
   "source": [
    "### input\n",
    "* prompt the user for their name and age \n",
    "* then calculate the year in which the user will turn 100 years old and print the result.\n",
    "\n",
    "```\n",
    "What is your name? John\n",
    "What is your age? 30\n",
    "John, you will turn 100 years old in the year 2090.\n",
    "```\n",
    "\n",
    "**Hint** use `input()` and `datetime.datetime.now()` methods"
   ]
  },
  {
   "cell_type": "code",
   "execution_count": 11,
   "metadata": {},
   "outputs": [
    {
     "name": "stdout",
     "output_type": "stream",
     "text": [
      "Ondrej, you will turn 100 years old in the year 2102\n"
     ]
    }
   ],
   "source": [
    "import datetime\n",
    "name = input(\"What is your name? \")\n",
    "age = int(input(\"What is your age? \"))\n",
    "year100 = datetime.datetime.now().year - age + 100\n",
    "print(f\"{name}, you will turn 100 years old in the year {year100}\")"
   ]
  },
  {
   "attachments": {},
   "cell_type": "markdown",
   "metadata": {},
   "source": [
    "### For loops\n",
    "* print multiplication table from 1 to 10"
   ]
  },
  {
   "cell_type": "code",
   "execution_count": 22,
   "metadata": {},
   "outputs": [
    {
     "name": "stdout",
     "output_type": "stream",
     "text": [
      "1 * 1 = 1\n",
      "1 * 2 = 2\n",
      "1 * 3 = 3\n",
      "1 * 4 = 4\n",
      "1 * 5 = 5\n",
      "1 * 6 = 6\n",
      "1 * 7 = 7\n",
      "1 * 8 = 8\n",
      "1 * 9 = 9\n",
      "1 * 10 = 10\n",
      "2 * 1 = 2\n",
      "2 * 2 = 4\n",
      "2 * 3 = 6\n",
      "2 * 4 = 8\n",
      "2 * 5 = 10\n",
      "2 * 6 = 12\n",
      "2 * 7 = 14\n",
      "2 * 8 = 16\n",
      "2 * 9 = 18\n",
      "2 * 10 = 20\n",
      "3 * 1 = 3\n",
      "3 * 2 = 6\n",
      "3 * 3 = 9\n",
      "3 * 4 = 12\n",
      "3 * 5 = 15\n",
      "3 * 6 = 18\n",
      "3 * 7 = 21\n",
      "3 * 8 = 24\n",
      "3 * 9 = 27\n",
      "3 * 10 = 30\n",
      "4 * 1 = 4\n",
      "4 * 2 = 8\n",
      "4 * 3 = 12\n",
      "4 * 4 = 16\n",
      "4 * 5 = 20\n",
      "4 * 6 = 24\n",
      "4 * 7 = 28\n",
      "4 * 8 = 32\n",
      "4 * 9 = 36\n",
      "4 * 10 = 40\n",
      "5 * 1 = 5\n",
      "5 * 2 = 10\n",
      "5 * 3 = 15\n",
      "5 * 4 = 20\n",
      "5 * 5 = 25\n",
      "5 * 6 = 30\n",
      "5 * 7 = 35\n",
      "5 * 8 = 40\n",
      "5 * 9 = 45\n",
      "5 * 10 = 50\n",
      "6 * 1 = 6\n",
      "6 * 2 = 12\n",
      "6 * 3 = 18\n",
      "6 * 4 = 24\n",
      "6 * 5 = 30\n",
      "6 * 6 = 36\n",
      "6 * 7 = 42\n",
      "6 * 8 = 48\n",
      "6 * 9 = 54\n",
      "6 * 10 = 60\n",
      "7 * 1 = 7\n",
      "7 * 2 = 14\n",
      "7 * 3 = 21\n",
      "7 * 4 = 28\n",
      "7 * 5 = 35\n",
      "7 * 6 = 42\n",
      "7 * 7 = 49\n",
      "7 * 8 = 56\n",
      "7 * 9 = 63\n",
      "7 * 10 = 70\n",
      "8 * 1 = 8\n",
      "8 * 2 = 16\n",
      "8 * 3 = 24\n",
      "8 * 4 = 32\n",
      "8 * 5 = 40\n",
      "8 * 6 = 48\n",
      "8 * 7 = 56\n",
      "8 * 8 = 64\n",
      "8 * 9 = 72\n",
      "8 * 10 = 80\n",
      "9 * 1 = 9\n",
      "9 * 2 = 18\n",
      "9 * 3 = 27\n",
      "9 * 4 = 36\n",
      "9 * 5 = 45\n",
      "9 * 6 = 54\n",
      "9 * 7 = 63\n",
      "9 * 8 = 72\n",
      "9 * 9 = 81\n",
      "9 * 10 = 90\n",
      "10 * 1 = 10\n",
      "10 * 2 = 20\n",
      "10 * 3 = 30\n",
      "10 * 4 = 40\n",
      "10 * 5 = 50\n",
      "10 * 6 = 60\n",
      "10 * 7 = 70\n",
      "10 * 8 = 80\n",
      "10 * 9 = 90\n",
      "10 * 10 = 100\n"
     ]
    }
   ],
   "source": [
    "for i in range(1,11):\n",
    "    for j in range(1,11):\n",
    "        print(f\"{i} * {j} = {i*j}\")"
   ]
  },
  {
   "attachments": {},
   "cell_type": "markdown",
   "metadata": {},
   "source": [
    "### Merge dictionaries\n",
    "Create 2 different dictionaries and merge them."
   ]
  },
  {
   "cell_type": "code",
   "execution_count": 26,
   "metadata": {},
   "outputs": [
    {
     "name": "stdout",
     "output_type": "stream",
     "text": [
      "{'Ondra': 21, 'Krystof': 20, 'Marek': 22, 'Filip': 20, 'Anita': 22, 'Kačka': 21}\n"
     ]
    }
   ],
   "source": [
    "dict1 = {\"Ondra\":21, \"Krystof\":20, \"Marek\":22}\n",
    "dict2 = {\"Filip\":20, \"Anita\":22, \"Kačka\":21}\n",
    "top = dict1|dict2\n",
    "print(top)"
   ]
  },
  {
   "attachments": {},
   "cell_type": "markdown",
   "metadata": {},
   "source": [
    "### Conditionals\n",
    "\n",
    " Calculate income tax for the given income by adhering to the below rules:\n",
    " * first 5k, tax rate 0%\n",
    " * next 10k, tax rate 10%\n",
    " * remainning, tax rate 20%\n",
    "\n"
   ]
  },
  {
   "cell_type": "code",
   "execution_count": 29,
   "metadata": {},
   "outputs": [
    {
     "name": "stdout",
     "output_type": "stream",
     "text": [
      "600.0\n"
     ]
    }
   ],
   "source": [
    "inc = int(input(\"Income: \"))\n",
    "if inc<5000:\n",
    "    tax = inc*0\n",
    "elif inc<10000:\n",
    "    tax = inc*0.1\n",
    "else:\n",
    "    tax = inc*0.2\n",
    "print(tax)"
   ]
  },
  {
   "attachments": {},
   "cell_type": "markdown",
   "metadata": {},
   "source": [
    "### Comprehensions\n",
    "\n",
    "1. Write a Python program that takes a list of numbers and creates a dictionary where the keys are the numbers and the values are their squares.\n",
    "2. Take the dictionary from the part above, and changes keys for values (and vice versa) using list comprehension.\n",
    "3. Create new dictionary by changing values from dictionary above to be strings containning original number followed with letter \"p\". Keys should remain the same."
   ]
  },
  {
   "cell_type": "code",
   "execution_count": 2,
   "metadata": {},
   "outputs": [
    {
     "name": "stdout",
     "output_type": "stream",
     "text": [
      "{1: 1, 2: 4, 3: 9, 4: 16}\n"
     ]
    }
   ],
   "source": [
    "l = [1,2,3,4]\n",
    "d = {i:i**2 for i in l}\n",
    "print(d)"
   ]
  },
  {
   "cell_type": "code",
   "execution_count": 5,
   "metadata": {},
   "outputs": [],
   "source": [
    "d = {v:k for k,v in d.items()}"
   ]
  },
  {
   "attachments": {},
   "cell_type": "markdown",
   "metadata": {},
   "source": [
    "### Dictionary manipulation\n",
    "\n",
    "1. Create a dictionary of 1000 students. Keys should be random strings of lenght 5 containning random characters  and values should be random grades (from 1 to 5). \n",
    "**Hint**: use module `string` and module `random`\n",
    "2. Modify functionality written in the point above so that keys are random string of lengths from 3 to 10\n",
    "3. Write a program that takes a dictionary of student names and their grades from the 1st part and calculates the average grade for the class\n",
    "4. Also calculate number of times each grade has occurred."
   ]
  },
  {
   "cell_type": "code",
   "execution_count": null,
   "metadata": {},
   "outputs": [],
   "source": [
    "import string\n",
    "import random\n",
    "\n",
    "students = {}\n",
    "for i in range(1000):\n",
    "    key = ''.join(random.choices(string.ascii_lowercase, k=5))\n",
    "    value = random.randint(1, 5)\n",
    "    students[key] = value"
   ]
  },
  {
   "cell_type": "code",
   "execution_count": 11,
   "metadata": {},
   "outputs": [],
   "source": [
    "students = {}\n",
    "for i in range(1000):\n",
    "    key = ''.join(random.choices(string.ascii_lowercase, k=random.randint(3,10)))\n",
    "    value = random.randint(1, 5)\n",
    "    students[key] = value"
   ]
  },
  {
   "cell_type": "code",
   "execution_count": 15,
   "metadata": {},
   "outputs": [
    {
     "data": {
      "text/plain": [
       "3.027"
      ]
     },
     "execution_count": 15,
     "metadata": {},
     "output_type": "execute_result"
    }
   ],
   "source": [
    "import numpy as np\n",
    "np.array(list(students.values())).mean()"
   ]
  },
  {
   "cell_type": "code",
   "execution_count": 22,
   "metadata": {},
   "outputs": [
    {
     "name": "stdout",
     "output_type": "stream",
     "text": [
      "205\n",
      "178\n",
      "202\n",
      "215\n",
      "200\n"
     ]
    }
   ],
   "source": [
    "for i in range(1,6):\n",
    "    count = list(students.values()).count(i)\n",
    "    print(count)"
   ]
  },
  {
   "attachments": {},
   "cell_type": "markdown",
   "metadata": {},
   "source": [
    "### Functions\n",
    "\n",
    "Turn what you've done in the previous exercise into functions. Don't write one monotholic function, split it logically."
   ]
  },
  {
   "cell_type": "code",
   "execution_count": 28,
   "metadata": {},
   "outputs": [],
   "source": [
    "def dict_students(a,min,max):\n",
    "    students = {}\n",
    "    for i in range(a):\n",
    "        key = ''.join(random.choices(string.ascii_lowercase, k=random.randint(min,max)))\n",
    "        value = random.randint(1, 5)\n",
    "        students[key] = value\n",
    "    return students"
   ]
  },
  {
   "cell_type": "code",
   "execution_count": 31,
   "metadata": {},
   "outputs": [],
   "source": [
    "def mean(dict):\n",
    "    return np.array(list(dict.values())).mean()"
   ]
  },
  {
   "cell_type": "code",
   "execution_count": 40,
   "metadata": {},
   "outputs": [],
   "source": [
    "def count_grades(dict):\n",
    "    for i in range(1,6):\n",
    "        count = list(dict.values()).count(i)\n",
    "        print(count)"
   ]
  },
  {
   "attachments": {},
   "cell_type": "markdown",
   "metadata": {},
   "source": [
    "### Thinking stretching\n",
    "\n",
    "* Given an array of integers nums and an integer target, return indices of the two numbers such that they add up to target.\n",
    "* You may assume that each input would have exactly one solution, and you may not use the same element twice.\n",
    "* You can return the answer in any order."
   ]
  },
  {
   "cell_type": "code",
   "execution_count": null,
   "metadata": {},
   "outputs": [],
   "source": []
  },
  {
   "cell_type": "markdown",
   "metadata": {},
   "source": []
  }
 ],
 "metadata": {
  "kernelspec": {
   "display_name": "Python 3",
   "language": "python",
   "name": "python3"
  },
  "language_info": {
   "codemirror_mode": {
    "name": "ipython",
    "version": 3
   },
   "file_extension": ".py",
   "mimetype": "text/x-python",
   "name": "python",
   "nbconvert_exporter": "python",
   "pygments_lexer": "ipython3",
   "version": "3.9.13"
  },
  "orig_nbformat": 4,
  "vscode": {
   "interpreter": {
    "hash": "aafa46b4eeba80b309ce28e940f9fad98e162e42209525e6d35c98767ee1832e"
   }
  }
 },
 "nbformat": 4,
 "nbformat_minor": 2
}
